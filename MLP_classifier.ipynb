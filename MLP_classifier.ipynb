{
  "nbformat": 4,
  "nbformat_minor": 0,
  "metadata": {
    "colab": {
      "provenance": [],
      "authorship_tag": "ABX9TyNbEJ3H4Rm7qYeEvzrJFakY",
      "include_colab_link": true
    },
    "kernelspec": {
      "name": "python3",
      "display_name": "Python 3"
    },
    "language_info": {
      "name": "python"
    }
  },
  "cells": [
    {
      "cell_type": "markdown",
      "metadata": {
        "id": "view-in-github",
        "colab_type": "text"
      },
      "source": [
        "<a href=\"https://colab.research.google.com/github/mshitie2/main/blob/main/MLP_classifier.ipynb\" target=\"_parent\"><img src=\"https://colab.research.google.com/assets/colab-badge.svg\" alt=\"Open In Colab\"/></a>"
      ]
    },
    {
      "cell_type": "code",
      "execution_count": null,
      "metadata": {
        "id": "-oH-1038NkZu"
      },
      "outputs": [],
      "source": [
        "from sklearn.model_selection import train_test_split\n",
        "from sklearn.metrics import accuracy_score\n",
        "from sklearn.neural_network import MLPClassifier\n",
        "import pandas as pd\n",
        "\n",
        "# Extract features using pre-trained model\n",
        "predictions = model_vgg3.layers[-2].output\n",
        "model_feat = keras.Model(inputs=model_vgg3.inputs, outputs=predictions)\n",
        "Extracted_features = model_feat.predict(test_generator)\n",
        "\n",
        "# Split data into training and testing sets\n",
        "train_image, valid_image, train_label, valid_label = train_test_split(Extracted_features, test_generator.classes,test_size=0.20, stratify=test_generator.classes, random_state=10)\n",
        "val_img, test_img, val_lab, test_lab = train_test_split(valid_image, valid_label, test_size=0.5, stratify=valid_label, random_state=50)\n",
        "\n",
        "# Train MLP classifier\n",
        "_classifier = MLPClassifier(hidden_layer_sizes=(64,), activation='relu', solver='adam', max_iter=1000)\n",
        "_classifier.fit(train_image, train_label)\n",
        "\n",
        "# Evaluate performance on test data\n",
        "pred = _classifier.predict(test_img)\n",
        "acc = accuracy_score(y_true=test_lab, y_pred=pred)\n",
        "print('Test accuracy:', acc)\n",
        "\n",
        "# Save extracted features and labels as CSV files\n",
        "final_features = Extracted_features\n",
        "lab = np.array(test_generator.classes)\n",
        "lab = lab.reshape(lab.shape[0], 1)\n",
        "np.savetxt(\"ext_features.csv\", final_features, delimiter=\",\")\n",
        "np.savetxt(\"labels.csv\", lab, delimiter=\",\")\n",
        "\n",
        "# Load and prepare data for training a new model\n",
        "df = pd.read_csv('/content/ext_features.csv', header=None)\n",
        "df2 = pd.read_csv('/content/labels.csv', header=None)\n",
        "\n",
        "total_features = df.shape[1]\n",
        "x = df[df.columns[:total_features]]\n",
        "y = df2[df2.columns[-1]].astype(int)\n",
        "\n",
        "# Split data into training and testing sets\n",
        "train_x, test_x, train_y, test_y = train_test_split(x, y, test_size=0.2, stratify=y, random_state=10)\n",
        "\n",
        "print('Training data shape:',train_x.shape)\n",
        "print('Training labels shape:', train_y.shape)\n",
        "print('Testing data shape:', test_x.shape)\n",
        "print('Testing labels shape:', test_y.shape)"
      ]
    }
  ]
}