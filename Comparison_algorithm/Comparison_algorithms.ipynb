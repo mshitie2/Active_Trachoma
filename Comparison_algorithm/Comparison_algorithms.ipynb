{
  "nbformat": 4,
  "nbformat_minor": 0,
  "metadata": {
    "colab": {
      "provenance": [],
      "authorship_tag": "ABX9TyOKo9VI/oL+FKLaEc3AXL41",
      "include_colab_link": true
    },
    "kernelspec": {
      "name": "python3",
      "display_name": "Python 3"
    },
    "language_info": {
      "name": "python"
    }
  },
  "cells": [
    {
      "cell_type": "markdown",
      "metadata": {
        "id": "view-in-github",
        "colab_type": "text"
      },
      "source": [
        "<a href=\"https://colab.research.google.com/github/mshitie2/main/blob/main/Comparison_algorithm/Comparison_algorithms.ipynb\" target=\"_parent\"><img src=\"https://colab.research.google.com/assets/colab-badge.svg\" alt=\"Open In Colab\"/></a>"
      ]
    },
    {
      "cell_type": "code",
      "execution_count": null,
      "metadata": {
        "id": "-Pwepa-SQcEG"
      },
      "outputs": [],
      "source": [
        "!pip install rarfile\n",
        "\n",
        "from google.colab import drive\n",
        "import rarfile\n",
        "import os\n",
        "\n",
        "# Mount Google Drive\n",
        "drive.mount('/content/drive')\n",
        "\n",
        "# Path to the .rar file in Google Drive\n",
        "rar_path = '/content/drive/MyDrive/computer_vision/Utilts.rar'\n",
        "\n",
        "# Destination folder to extract the contents\n",
        "destination_folder = '/content'\n",
        "\n",
        "# Create the destination folder if it doesn't exist\n",
        "if not os.path.exists(destination_folder):\n",
        "    os.makedirs(destination_folder)\n",
        "\n",
        "# Extract the .rar file\n",
        "with rarfile.RarFile(rar_path, 'r') as rar_ref:\n",
        "    rar_ref.extractall(destination_folder)\n",
        "\n",
        "print(\"Extraction completed.\")\n"
      ]
    },
    {
      "cell_type": "code",
      "source": [
        "!pip install nbconvert"
      ],
      "metadata": {
        "id": "oIbE0OSMQeNZ"
      },
      "execution_count": null,
      "outputs": []
    },
    {
      "cell_type": "code",
      "source": [
        "!jupyter nbconvert --to=python Comparison_algorithms/GA.ipynb # first upload EO.ipynb in Colab environment in Comparison_algorithms folder\n",
        "!jupyter nbconvert --to=python Comparison_algorithms/GSA.ipynb\n",
        "!jupyter nbconvert --to=python Comparison_algorithms/GWO.ipynb\n",
        "!jupyter nbconvert --to=python Comparison_algorithms/WOA.ipynb\n",
        "!jupyter nbconvert --to=python Comparison_algorithms/PSO.ipynb\n",
        "!jupyter nbconvert --to=python Comparison_algorithms/SCA.ipynb\n",
        "!jupyter nbconvert --to=python Comparison_algorithms/EO.ipynb\n",
        "!jupyter nbconvert --to=python Comparison_algorithms/HS.ipynb\n"
      ],
      "metadata": {
        "id": "kJfNKr9OQjBI"
      },
      "execution_count": null,
      "outputs": []
    },
    {
      "cell_type": "code",
      "source": [
        "from Comparison_algorithms.GA import GA # for error copy below confusion matric code and pased by oping link and poast on utilities.py\n",
        "from Comparison_algorithms.GSA import GSA\n",
        "from Comparison_algorithms.GWO import GWO\n",
        "from Comparison_algorithms.WOA import WOA\n",
        "from Comparison_algorithms.PSO import PSO\n",
        "from Comparison_algorithms.SCA import SCA\n",
        "from Comparison_algorithms.EO import EO\n",
        "from Comparison_algorithms.HS import HS"
      ],
      "metadata": {
        "id": "E5e7kAN_QwGJ"
      },
      "execution_count": null,
      "outputs": []
    },
    {
      "cell_type": "code",
      "source": [
        "#solution, result = GA(20, 100, x, y, save_conv_graph=True)   # To run Local search based GA algorithm\n",
        "#solution, result = GSA(20, 100, x, y, save_conv_graph=True)  # To run Local search based GSA algorithm\n",
        "#solution, result = GWO(20, 100, x, y, save_conv_graph=True)  # To run Local search based GWO algorithm\n",
        "#solution, result = WOA(20, 100, x, y, save_conv_graph=True)   # To run Local search based WOA algorithm\n",
        "#solution, result = PSO(20, 100, x, y, save_conv_graph=True)  # To run Local search based PSO algorithm\n",
        "#solution, result = SCA(20, 100, x, y, save_conv_graph=True)  # To run Local search based SCA algorithm\n",
        "solution, result = EO(20, 100, x, y, save_conv_graph=True)   # To run Local search based EO algorithm\n",
        "#1solution, result = HS(20, 100, x, y, save_conv_graph=True)   # To run Local search based HS algorithm\n",
        "print(result.accuracy)\n",
        "print(result.precision)\n",
        "print(result.recall)"
      ],
      "metadata": {
        "id": "Lq8DBTklQ6Da"
      },
      "execution_count": null,
      "outputs": []
    }
  ]
}